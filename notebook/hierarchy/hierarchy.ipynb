{
 "cells": [
  {
   "cell_type": "markdown",
   "metadata": {},
   "source": [
    "# Create hierarchy\n",
    "Creates a hierachy from the wikidata entries by its parent attribute.\n",
    "The created tree is filtered and saved to json for visualization.\n",
    "It is also saved back to csv so the reduced number of keywords can be used for clustering.\n",
    "\n",
    "Uses the csv `keyword_wikidata_small.csv` from the reducing notebook. Could also be used with all keywords.\n",
    "Expect csv `keyword_wikidata_small.csv` with columns keyword, wikidata and parent0."
   ]
  },
  {
   "cell_type": "code",
   "execution_count": 1,
   "metadata": {},
   "outputs": [],
   "source": [
    "#config\n",
    "\n",
    "#path where csv files are stored and results are saved to\n",
    "data_path = '../../../data'"
   ]
  },
  {
   "cell_type": "code",
   "execution_count": 2,
   "metadata": {},
   "outputs": [],
   "source": [
    "import os\n",
    "import pandas as pd\n",
    "import copy\n",
    "import sys\n",
    "import requests\n",
    "import json"
   ]
  },
  {
   "cell_type": "code",
   "execution_count": 3,
   "metadata": {},
   "outputs": [],
   "source": [
    "# load csv file\n",
    "\n",
    "keyword_wiki_path = os.path.join(data_path, 'keyword_wikidata_small.csv')\n",
    "df_keywords_wiki = pd.read_csv(keyword_wiki_path, index_col='wikidata')"
   ]
  },
  {
   "cell_type": "code",
   "execution_count": 4,
   "metadata": {},
   "outputs": [],
   "source": [
    "# remove numerical keywords\n",
    "\n",
    "df_keywords_wiki = df_keywords_wiki[~df_keywords_wiki.keyword.str.fullmatch('[0-9]+')]"
   ]
  },
  {
   "cell_type": "code",
   "execution_count": 5,
   "metadata": {},
   "outputs": [
    {
     "data": {
      "text/plain": [
       "keyword    60529\n",
       "parent0    55706\n",
       "dtype: int64"
      ]
     },
     "execution_count": 5,
     "metadata": {},
     "output_type": "execute_result"
    }
   ],
   "source": [
    "df_keywords_wiki.count()"
   ]
  },
  {
   "cell_type": "code",
   "execution_count": 6,
   "metadata": {},
   "outputs": [],
   "source": [
    "# get parents to list\n",
    "def getParents(s):\n",
    "    s = s[2:-2].split('\", \"')\n",
    "    return s"
   ]
  },
  {
   "cell_type": "code",
   "execution_count": 7,
   "metadata": {},
   "outputs": [],
   "source": [
    "# convert wikidata entries to nodes\n",
    "\n",
    "nodes = []\n",
    "\n",
    "for index, row in df_keywords_wiki.iterrows():\n",
    "    node = {'id': index, 'name': row['keyword'], 'children': []}\n",
    "    \n",
    "    if not pd.isnull(row['parent0']):\n",
    "        parent = getParents(row['parent0'])\n",
    "        \n",
    "        node['parent'] = parent\n",
    "        \n",
    "    \n",
    "    # remove cycles\n",
    "    if node['id'] == 'Q12136':\n",
    "        parent.remove('Q179630')\n",
    "        parent.remove('Q814207')\n",
    "    \n",
    "    if node['id'] == 'Q954007':\n",
    "        parent.remove('Q954007')\n",
    "    \n",
    "    if node['id'] == 'Q35535':\n",
    "        parent.remove('Q35535')\n",
    "        \n",
    "    if node['id'] == 'Q832237':\n",
    "        parent.remove('Q20113959')\n",
    "            \n",
    "    nodes.append(node)"
   ]
  },
  {
   "cell_type": "code",
   "execution_count": 8,
   "metadata": {},
   "outputs": [],
   "source": [
    "# add nodes that are not in the data\n",
    "\n",
    "def addNode(id, name):\n",
    "    nodes.append({'id': id, 'name': name, 'children': []})\n",
    "    \n",
    "\n",
    "addNode('Q17339814', 'chemical substances')\n",
    "addNode('Q47154513', 'structural class of chemical compounds')\n",
    "addNode('Q214609', 'base material')"
   ]
  },
  {
   "cell_type": "code",
   "execution_count": 9,
   "metadata": {},
   "outputs": [],
   "source": [
    "# build tree from the nodes, creates multiple trees\n",
    "\n",
    "def build_tree(nodes):\n",
    "    \n",
    "    nodes = copy.deepcopy(nodes)\n",
    "    \n",
    "    node_dict = {}\n",
    "    \n",
    "    for node in nodes:\n",
    "        node_dict[node['id']] = node\n",
    "        \n",
    "    parents = node_dict.copy()\n",
    "    \n",
    "    notin = 0\n",
    "        \n",
    "    for node in nodes:\n",
    "        if 'parent' in node:\n",
    "            for parent in node['parent']:\n",
    "                if parent in node_dict:\n",
    "                    if node['id'] in parents:\n",
    "                        del parents[node['id']]\n",
    "                    node_dict[parent]['children'].append(node)\n",
    "            \n",
    "    return list(parents.values())\n",
    "\n",
    "\n",
    "trees = build_tree(nodes)"
   ]
  },
  {
   "cell_type": "code",
   "execution_count": 10,
   "metadata": {},
   "outputs": [],
   "source": [
    "# use only trees that have more than one node\n",
    "\n",
    "trees_with_children = list(filter(lambda x: len(x['children']) > 0, trees))"
   ]
  },
  {
   "cell_type": "code",
   "execution_count": 11,
   "metadata": {},
   "outputs": [
    {
     "data": {
      "text/plain": [
       "1008"
      ]
     },
     "execution_count": 11,
     "metadata": {},
     "output_type": "execute_result"
    }
   ],
   "source": [
    "# number of trees\n",
    "len(trees_with_children)"
   ]
  },
  {
   "cell_type": "code",
   "execution_count": 12,
   "metadata": {},
   "outputs": [],
   "source": [
    "def tree_size(node):\n",
    "    size = 1\n",
    "    if 'children' not in node:\n",
    "        return size\n",
    "    for child in node['children']:\n",
    "        size += tree_size(child)\n",
    "    return size"
   ]
  },
  {
   "cell_type": "code",
   "execution_count": 13,
   "metadata": {},
   "outputs": [],
   "source": [
    "# check for cycles in a combined tree\n",
    "\n",
    "def find_cycle(node):\n",
    "    discovered = set()\n",
    "    finished = set()\n",
    "    \n",
    "    for child in node['children']:\n",
    "        if child['id'] not in discovered and child['id'] not in finished:\n",
    "            discovered, finished = dfs_visit(child, discovered, finished)\n",
    "    \n",
    "\n",
    "def dfs_visit(node, discovered, finished):\n",
    "    discovered.add(node['id'])\n",
    "\n",
    "    for child in node['children']:\n",
    "        # Detect cycles\n",
    "        if child['id'] in discovered:\n",
    "            print(f\"Cycle detected: found a back edge from {child['name']}, {child['id']} to {node['name']},{node['id']}.\")\n",
    "            \n",
    "            # remove cycle TODO\n",
    "            #node['children'].remove(child)\n",
    "\n",
    "        # Recurse into DFS tree\n",
    "        if child['id'] not in finished:\n",
    "            dfs_visit(child, discovered, finished)\n",
    "\n",
    "    if node['id'] in discovered:\n",
    "        discovered.remove(node['id'])\n",
    "    finished.add(node['id'])\n",
    "\n",
    "    return discovered, finished\n",
    "\n",
    "\n",
    "dfs_parents = copy.deepcopy(trees_with_children)\n",
    "dfs_root = {'name': 'root', 'keyword': 'root', 'children': dfs_parents}\n",
    "find_cycle(dfs_root)\n"
   ]
  },
  {
   "cell_type": "code",
   "execution_count": 14,
   "metadata": {
    "scrolled": true
   },
   "outputs": [
    {
     "data": {
      "text/plain": [
       "44014"
      ]
     },
     "execution_count": 14,
     "metadata": {},
     "output_type": "execute_result"
    }
   ],
   "source": [
    "# number of nodes\n",
    "\n",
    "sizes = [(x['name'], tree_size(x)) for x in trees_with_children]\n",
    "sum([x[1] for x in sizes])"
   ]
  },
  {
   "cell_type": "code",
   "execution_count": 15,
   "metadata": {},
   "outputs": [
    {
     "data": {
      "text/plain": [
       "96"
      ]
     },
     "execution_count": 15,
     "metadata": {},
     "output_type": "execute_result"
    }
   ],
   "source": [
    "# use only larger trees\n",
    "large_nodes = list(filter(lambda x: tree_size(x) > 20, trees_with_children))\n",
    "# number of trees\n",
    "len(large_nodes)"
   ]
  },
  {
   "cell_type": "code",
   "execution_count": 16,
   "metadata": {},
   "outputs": [
    {
     "data": {
      "text/plain": [
       "40368"
      ]
     },
     "execution_count": 16,
     "metadata": {},
     "output_type": "execute_result"
    }
   ],
   "source": [
    "# number of nodes when only using larger trees\n",
    "sum(tree_size(x) for x in large_nodes)"
   ]
  },
  {
   "cell_type": "code",
   "execution_count": 17,
   "metadata": {},
   "outputs": [],
   "source": [
    "# create one tree from all trees\n",
    "root = {'name': 'root', 'id': 'root', 'children': large_nodes}"
   ]
  },
  {
   "cell_type": "code",
   "execution_count": 18,
   "metadata": {},
   "outputs": [],
   "source": [
    "root_to_filter = copy.deepcopy(root)"
   ]
  },
  {
   "cell_type": "code",
   "execution_count": 19,
   "metadata": {},
   "outputs": [],
   "source": [
    "# functions to filter the tree\n",
    "\n",
    "def remove_subtree(node, id):\n",
    "    for child in node['children']:\n",
    "        if child['id'] == id:\n",
    "            node['children'].remove(child)\n",
    "        else:\n",
    "            remove_subtree(child, id)\n",
    "            \n",
    "def remove_if_not_in(node, id, parent):\n",
    "    if node['id'] == id:\n",
    "        return\n",
    "    if node['id'] != parent:\n",
    "        for child in node['children']:\n",
    "            if child['id'] == id:\n",
    "                node['children'].remove(child)\n",
    "    for child in node['children']:\n",
    "        remove_if_not_in(child, id, parent)"
   ]
  },
  {
   "cell_type": "code",
   "execution_count": 20,
   "metadata": {},
   "outputs": [],
   "source": [
    "# remove subtrees that seem not necessary for a chemical context\n",
    "\n",
    "to_remove = [\n",
    "    'Q3305213', #painting\n",
    "    'Q11424', #film\n",
    "    'Q1348305', #erratum\n",
    "    'Q134556', #single\n",
    "    'Q93184', #drawing\n",
    "    'Q871232', #editorial\n",
    "    'Q125191', #photograph\n",
    "    'Q41176', #building\n",
    "    'Q4022', #river\n",
    "    'Q860861', #sculpture\n",
    "    'Q8502', #mountain\n",
    "    'Q20026787', #!chemical component\n",
    "    'Q4026292', #?action\n",
    "    'Q24229398', #?agent\n",
    "    'Q151885', #concept\n",
    "    'Q71421787', #hydroxides\n",
    "    'Q61788060', #human activity\n",
    "    'Q386724', #work\n",
    "    'Q16889133', #class\n",
    "    'Q34749', #social science\n",
    "    'Q21198', #computer science\n",
    "    'Q7748', #law\n",
    "    'Q7991', #natural science\n",
    "    'Q6256', #country\n",
    "    'Q23442', #island\n",
    "    'Q34770', #language\n",
    "    'Q267628', #column\n",
    "    'Q107425', #landscape\n",
    "    'Q1076968', #digital media\n",
    "    'Q1186952', #interactive media\n",
    "    'Q11024', #communication\n",
    "    'Q11028', #information\n",
    "    'Q16387', #information science\n",
    "    'Q79782', #motion\n",
    "    'Q131257', #intellectual property\n",
    "    'Q170658', #creativity\n",
    "    'Q2684591', #statement\n",
    "    'Q28797', #applied science\n",
    "    'Q362482', #operation\n",
    "    'Q395', #mathematics\n",
    "    'Q41217', #mechanics\n",
    "    'Q702492', #urban area\n",
    "    'Q8008', #earth sciences\n",
    "    'Q9081', #knowledge\n",
    "    'Q214339', #role\n",
    "    'Q3769299', #human behaviour\n",
    "    'Q11348', #function\n",
    "]\n",
    "\n",
    "\n",
    "for r in to_remove:\n",
    "    remove_subtree(root_to_filter, r)\n"
   ]
  },
  {
   "cell_type": "code",
   "execution_count": 21,
   "metadata": {},
   "outputs": [],
   "source": [
    "# remove subtrees that have multiple occurrences in the tree\n",
    "\n",
    "remove_not_in = [\n",
    "    ('Q8054', 'Q17339814'), #protein\n",
    "    ('Q3249551', 'Q1190554'), #process\n",
    "    ('Q1183543', 'Q39546'), #device\n",
    "    ('Q39546', 'Q16798631'), #tool\n",
    "    ('Q42889', 'Q11019'), #vehicle\n",
    "    ('Q1799072', 'Q2695280'), #method\n",
    "    ('Q46857', 'Q1799072'), #scientific method\n",
    "    ('Q1379672', 'Q1799072'), #evaluation\n",
    "    ('Q133500', 'Q2200417'), #learning\n",
    "    ('Q156', 'Q174211'), #alcohol\n",
    "    ('Q217602', 'Q46857'), #analysis\n",
    "]\n",
    "\n",
    "for r in remove_not_in:\n",
    "    remove_if_not_in(root_to_filter, r[0], r[1])"
   ]
  },
  {
   "cell_type": "code",
   "execution_count": 22,
   "metadata": {},
   "outputs": [
    {
     "data": {
      "text/plain": [
       "16299"
      ]
     },
     "execution_count": 22,
     "metadata": {},
     "output_type": "execute_result"
    }
   ],
   "source": [
    "# final tree size\n",
    "\n",
    "tree_size(root_to_filter)"
   ]
  },
  {
   "cell_type": "code",
   "execution_count": 23,
   "metadata": {},
   "outputs": [],
   "source": [
    "# remove parents from the visualization tree for a smaller file size\n",
    "\n",
    "vis_tree = copy.deepcopy(root_to_filter)\n",
    "\n",
    "def remove_parents(node):\n",
    "    node.pop('parent', None)\n",
    "    for child in node['children']:\n",
    "        remove_parents(child)\n",
    "\n",
    "remove_parents(vis_tree)"
   ]
  },
  {
   "cell_type": "code",
   "execution_count": 24,
   "metadata": {},
   "outputs": [],
   "source": [
    "# output tree to json file\n",
    "\n",
    "out_file = os.path.join(data_path, 'hierarchy_tree.json')\n",
    "\n",
    "with open(out_file, 'w+') as outfile:\n",
    "    json.dump(vis_tree, outfile)"
   ]
  },
  {
   "cell_type": "code",
   "execution_count": 25,
   "metadata": {},
   "outputs": [],
   "source": [
    "# get set of tree nodes\n",
    "\n",
    "node_set = set()\n",
    "\n",
    "def traverse_tree_to_set(root):\n",
    "    global node_set\n",
    "    if root['id'] != 'root': \n",
    "        if 'parent' in root:          \n",
    "            parent0 = '\"{}\"'.format(', '.join(root['parent']))\n",
    "        else:\n",
    "            parent0 = ''\n",
    "        node_set.add((root['id'], root['name'], parent0))\n",
    "    for child in root['children']:\n",
    "        traverse_tree_to_set(child)\n",
    "        \n",
    "traverse_tree_to_set(root_to_filter)"
   ]
  },
  {
   "cell_type": "code",
   "execution_count": 26,
   "metadata": {},
   "outputs": [],
   "source": [
    "# convert nodes to dataframe\n",
    "\n",
    "results_keywords = pd.DataFrame(columns=['keyword', 'wikidata', 'parent0'])\n",
    "\n",
    "for node in node_set:\n",
    "    if node[2] != '':\n",
    "        results_keywords = results_keywords.append({'keyword': node[1], 'wikidata': node[0], 'parent0': node[2]}, ignore_index=True)\n",
    "    else:\n",
    "        results_keywords = results_keywords.append({'keyword': node[1], 'wikidata': node[0]}, ignore_index=True)"
   ]
  },
  {
   "cell_type": "code",
   "execution_count": 27,
   "metadata": {},
   "outputs": [],
   "source": [
    "# save filterd keywords to csv\n",
    "\n",
    "keyword_result_path = os.path.join(data_path, 'keyword_result.csv')\n",
    "results_keywords.to_csv(keyword_result_path, index = False)"
   ]
  },
  {
   "cell_type": "code",
   "execution_count": null,
   "metadata": {},
   "outputs": [],
   "source": []
  },
  {
   "cell_type": "markdown",
   "metadata": {},
   "source": [
    "## Further methods for analysis"
   ]
  },
  {
   "cell_type": "code",
   "execution_count": 28,
   "metadata": {},
   "outputs": [
    {
     "data": {
      "text/plain": [
       "16299"
      ]
     },
     "execution_count": 28,
     "metadata": {},
     "output_type": "execute_result"
    }
   ],
   "source": [
    "# calculate sizes of all subtrees\n",
    "\n",
    "sub_tree_sizes = pd.DataFrame(columns=['keyword', 'id', 'size'])\n",
    "\n",
    "def tree_size_to_df(node):\n",
    "    global sub_tree_sizes\n",
    "    size = 1\n",
    "    if 'children' not in node:\n",
    "        sub_tree_sizes = sub_tree_sizes.append({'keyword': node['name'], 'id': node['id'], 'size': size}, ignore_index=True)\n",
    "        return size\n",
    "    for child in node['children']:\n",
    "        size += tree_size_to_df(child)\n",
    "    sub_tree_sizes = sub_tree_sizes.append({'keyword': node['name'], 'id': node['id'], 'size': size}, ignore_index=True)\n",
    "    return size\n",
    "\n",
    "tree_size_to_df(root_to_filter)"
   ]
  },
  {
   "cell_type": "code",
   "execution_count": 29,
   "metadata": {
    "scrolled": true
   },
   "outputs": [
    {
     "data": {
      "text/html": [
       "<div>\n",
       "<style scoped>\n",
       "    .dataframe tbody tr th:only-of-type {\n",
       "        vertical-align: middle;\n",
       "    }\n",
       "\n",
       "    .dataframe tbody tr th {\n",
       "        vertical-align: top;\n",
       "    }\n",
       "\n",
       "    .dataframe thead tr th {\n",
       "        text-align: left;\n",
       "    }\n",
       "\n",
       "    .dataframe thead tr:last-of-type th {\n",
       "        text-align: right;\n",
       "    }\n",
       "</style>\n",
       "<table border=\"1\" class=\"dataframe\">\n",
       "  <thead>\n",
       "    <tr>\n",
       "      <th></th>\n",
       "      <th></th>\n",
       "      <th colspan=\"2\" halign=\"left\">size</th>\n",
       "    </tr>\n",
       "    <tr>\n",
       "      <th></th>\n",
       "      <th></th>\n",
       "      <th>count</th>\n",
       "      <th>sum</th>\n",
       "    </tr>\n",
       "    <tr>\n",
       "      <th>id</th>\n",
       "      <th>keyword</th>\n",
       "      <th></th>\n",
       "      <th></th>\n",
       "    </tr>\n",
       "  </thead>\n",
       "  <tbody>\n",
       "    <tr>\n",
       "      <th>Q80294</th>\n",
       "      <th>cellulose</th>\n",
       "      <td>23</td>\n",
       "      <td>69</td>\n",
       "    </tr>\n",
       "    <tr>\n",
       "      <th>Q41534</th>\n",
       "      <th>starch</th>\n",
       "      <td>14</td>\n",
       "      <td>70</td>\n",
       "    </tr>\n",
       "    <tr>\n",
       "      <th>Q173600</th>\n",
       "      <th>disaccharide</th>\n",
       "      <td>12</td>\n",
       "      <td>72</td>\n",
       "    </tr>\n",
       "    <tr>\n",
       "      <th>Q407553</th>\n",
       "      <th>glycosaminoglycan</th>\n",
       "      <td>9</td>\n",
       "      <td>90</td>\n",
       "    </tr>\n",
       "    <tr>\n",
       "      <th>Q320607</th>\n",
       "      <th>oligosaccharide</th>\n",
       "      <td>8</td>\n",
       "      <td>80</td>\n",
       "    </tr>\n",
       "    <tr>\n",
       "      <th>Q134219</th>\n",
       "      <th>polysaccharides</th>\n",
       "      <td>8</td>\n",
       "      <td>512</td>\n",
       "    </tr>\n",
       "    <tr>\n",
       "      <th>Q2250497</th>\n",
       "      <th>unsaturated fatty acids</th>\n",
       "      <td>6</td>\n",
       "      <td>60</td>\n",
       "    </tr>\n",
       "    <tr>\n",
       "      <th>Q61476</th>\n",
       "      <th>fatty acid</th>\n",
       "      <td>5</td>\n",
       "      <td>90</td>\n",
       "    </tr>\n",
       "    <tr>\n",
       "      <th>Q416796</th>\n",
       "      <th>glucan</th>\n",
       "      <td>5</td>\n",
       "      <td>90</td>\n",
       "    </tr>\n",
       "    <tr>\n",
       "      <th>Q222174</th>\n",
       "      <th>flavonoid</th>\n",
       "      <td>5</td>\n",
       "      <td>165</td>\n",
       "    </tr>\n",
       "    <tr>\n",
       "      <th>Q8066</th>\n",
       "      <th>amino acid</th>\n",
       "      <td>5</td>\n",
       "      <td>95</td>\n",
       "    </tr>\n",
       "    <tr>\n",
       "      <th>Q41581</th>\n",
       "      <th>alkane</th>\n",
       "      <td>4</td>\n",
       "      <td>68</td>\n",
       "    </tr>\n",
       "    <tr>\n",
       "      <th>Q134856</th>\n",
       "      <th>carboxylic acid</th>\n",
       "      <td>4</td>\n",
       "      <td>244</td>\n",
       "    </tr>\n",
       "    <tr>\n",
       "      <th>Q416997</th>\n",
       "      <th>peptide hormones</th>\n",
       "      <td>4</td>\n",
       "      <td>60</td>\n",
       "    </tr>\n",
       "    <tr>\n",
       "      <th>Q422649</th>\n",
       "      <th>biopolymer</th>\n",
       "      <td>4</td>\n",
       "      <td>404</td>\n",
       "    </tr>\n",
       "    <tr>\n",
       "      <th>Q407212</th>\n",
       "      <th>polycyclic aromatic hydrocarbons</th>\n",
       "      <td>4</td>\n",
       "      <td>60</td>\n",
       "    </tr>\n",
       "    <tr>\n",
       "      <th>Q123619</th>\n",
       "      <th>nucleic acid</th>\n",
       "      <td>4</td>\n",
       "      <td>68</td>\n",
       "    </tr>\n",
       "    <tr>\n",
       "      <th>Q177911</th>\n",
       "      <th>steroid</th>\n",
       "      <td>3</td>\n",
       "      <td>111</td>\n",
       "    </tr>\n",
       "    <tr>\n",
       "      <th>Q39875001</th>\n",
       "      <th>measure</th>\n",
       "      <td>3</td>\n",
       "      <td>60</td>\n",
       "    </tr>\n",
       "    <tr>\n",
       "      <th>Q43648</th>\n",
       "      <th>hydrocarbon</th>\n",
       "      <td>3</td>\n",
       "      <td>69</td>\n",
       "    </tr>\n",
       "    <tr>\n",
       "      <th>Q679692</th>\n",
       "      <th>biopharmaceutical</th>\n",
       "      <td>3</td>\n",
       "      <td>87</td>\n",
       "    </tr>\n",
       "    <tr>\n",
       "      <th>Q33525</th>\n",
       "      <th>carcinoma</th>\n",
       "      <td>3</td>\n",
       "      <td>120</td>\n",
       "    </tr>\n",
       "    <tr>\n",
       "      <th>Q11364</th>\n",
       "      <th>hormone</th>\n",
       "      <td>3</td>\n",
       "      <td>102</td>\n",
       "    </tr>\n",
       "    <tr>\n",
       "      <th>Q421948</th>\n",
       "      <th>organic acid</th>\n",
       "      <td>3</td>\n",
       "      <td>303</td>\n",
       "    </tr>\n",
       "    <tr>\n",
       "      <th>Q11358</th>\n",
       "      <th>carbohydrate</th>\n",
       "      <td>3</td>\n",
       "      <td>303</td>\n",
       "    </tr>\n",
       "    <tr>\n",
       "      <th>Q516751</th>\n",
       "      <th>polyketide</th>\n",
       "      <td>3</td>\n",
       "      <td>138</td>\n",
       "    </tr>\n",
       "    <tr>\n",
       "      <th>Q283</th>\n",
       "      <th>water</th>\n",
       "      <td>2</td>\n",
       "      <td>54</td>\n",
       "    </tr>\n",
       "    <tr>\n",
       "      <th>Q67008917</th>\n",
       "      <th>biological products</th>\n",
       "      <td>2</td>\n",
       "      <td>60</td>\n",
       "    </tr>\n",
       "    <tr>\n",
       "      <th>Q1979154</th>\n",
       "      <th>model</th>\n",
       "      <td>2</td>\n",
       "      <td>94</td>\n",
       "    </tr>\n",
       "    <tr>\n",
       "      <th>Q3314483</th>\n",
       "      <th>fruit</th>\n",
       "      <td>2</td>\n",
       "      <td>84</td>\n",
       "    </tr>\n",
       "    <tr>\n",
       "      <th>Q131656</th>\n",
       "      <th>pesticide</th>\n",
       "      <td>2</td>\n",
       "      <td>166</td>\n",
       "    </tr>\n",
       "    <tr>\n",
       "      <th>Q11004</th>\n",
       "      <th>vegetable</th>\n",
       "      <td>2</td>\n",
       "      <td>60</td>\n",
       "    </tr>\n",
       "    <tr>\n",
       "      <th>Q1075</th>\n",
       "      <th>color</th>\n",
       "      <td>2</td>\n",
       "      <td>120</td>\n",
       "    </tr>\n",
       "    <tr>\n",
       "      <th>Q967847</th>\n",
       "      <th>nanomaterial</th>\n",
       "      <td>2</td>\n",
       "      <td>52</td>\n",
       "    </tr>\n",
       "    <tr>\n",
       "      <th>Q12078</th>\n",
       "      <th>cancer</th>\n",
       "      <td>2</td>\n",
       "      <td>88</td>\n",
       "    </tr>\n",
       "    <tr>\n",
       "      <th>Q12718609</th>\n",
       "      <th>statistical method</th>\n",
       "      <td>2</td>\n",
       "      <td>54</td>\n",
       "    </tr>\n",
       "    <tr>\n",
       "      <th>Q7189713</th>\n",
       "      <th>physiological condition</th>\n",
       "      <td>2</td>\n",
       "      <td>82</td>\n",
       "    </tr>\n",
       "    <tr>\n",
       "      <th>Q1789452</th>\n",
       "      <th>criterion</th>\n",
       "      <td>2</td>\n",
       "      <td>58</td>\n",
       "    </tr>\n",
       "    <tr>\n",
       "      <th>Q170744</th>\n",
       "      <th>ketone</th>\n",
       "      <td>2</td>\n",
       "      <td>98</td>\n",
       "    </tr>\n",
       "    <tr>\n",
       "      <th>Q181322</th>\n",
       "      <th>insecticide</th>\n",
       "      <td>2</td>\n",
       "      <td>78</td>\n",
       "    </tr>\n",
       "  </tbody>\n",
       "</table>\n",
       "</div>"
      ],
      "text/plain": [
       "                                            size     \n",
       "                                           count  sum\n",
       "id        keyword                                    \n",
       "Q80294    cellulose                           23   69\n",
       "Q41534    starch                              14   70\n",
       "Q173600   disaccharide                        12   72\n",
       "Q407553   glycosaminoglycan                    9   90\n",
       "Q320607   oligosaccharide                      8   80\n",
       "Q134219   polysaccharides                      8  512\n",
       "Q2250497  unsaturated fatty acids              6   60\n",
       "Q61476    fatty acid                           5   90\n",
       "Q416796   glucan                               5   90\n",
       "Q222174   flavonoid                            5  165\n",
       "Q8066     amino acid                           5   95\n",
       "Q41581    alkane                               4   68\n",
       "Q134856   carboxylic acid                      4  244\n",
       "Q416997   peptide hormones                     4   60\n",
       "Q422649   biopolymer                           4  404\n",
       "Q407212   polycyclic aromatic hydrocarbons     4   60\n",
       "Q123619   nucleic acid                         4   68\n",
       "Q177911   steroid                              3  111\n",
       "Q39875001 measure                              3   60\n",
       "Q43648    hydrocarbon                          3   69\n",
       "Q679692   biopharmaceutical                    3   87\n",
       "Q33525    carcinoma                            3  120\n",
       "Q11364    hormone                              3  102\n",
       "Q421948   organic acid                         3  303\n",
       "Q11358    carbohydrate                         3  303\n",
       "Q516751   polyketide                           3  138\n",
       "Q283      water                                2   54\n",
       "Q67008917 biological products                  2   60\n",
       "Q1979154  model                                2   94\n",
       "Q3314483  fruit                                2   84\n",
       "Q131656   pesticide                            2  166\n",
       "Q11004    vegetable                            2   60\n",
       "Q1075     color                                2  120\n",
       "Q967847   nanomaterial                         2   52\n",
       "Q12078    cancer                               2   88\n",
       "Q12718609 statistical method                   2   54\n",
       "Q7189713  physiological condition              2   82\n",
       "Q1789452  criterion                            2   58\n",
       "Q170744   ketone                               2   98\n",
       "Q181322   insecticide                          2   78"
      ]
     },
     "execution_count": 29,
     "metadata": {},
     "output_type": "execute_result"
    }
   ],
   "source": [
    "# check for larger subtrees that occure multiple times in the tree\n",
    "\n",
    "grouped_sizes = sub_tree_sizes.groupby(['id', 'keyword']).agg(['count', 'sum'])\n",
    "grouped_sizes = grouped_sizes.sort_values([('size', 'count')], ascending=False)\n",
    "\n",
    "grouped_sizes[(grouped_sizes[('size', 'count')] > 1) & (grouped_sizes[('size', 'sum')] > 50)]"
   ]
  },
  {
   "cell_type": "markdown",
   "metadata": {},
   "source": [
    "# Create keywords - class table"
   ]
  },
  {
   "cell_type": "code",
   "execution_count": 30,
   "metadata": {},
   "outputs": [],
   "source": [
    "# load all keywords\n",
    "\n",
    "keywords_path = os.path.join(data_path, 'keyword.csv')\n",
    "df_keywords = pd.read_csv(keywords_path, index_col='name')"
   ]
  },
  {
   "cell_type": "code",
   "execution_count": 31,
   "metadata": {},
   "outputs": [],
   "source": [
    "categories = {\n",
    "    'Q206229': 'biomolecule',\n",
    "    'Q17339814': 'chemical substance',\n",
    "    'Q11426': 'metal',\n",
    "    'Q3249551': 'process',\n",
    "    'Q4751159': 'analytical method',\n",
    "    #'': 'biochemical relation',       what id?\n",
    "    'Q937228': 'property',\n",
    "    \n",
    "    # added categories \n",
    "    'Q47154513': 'structural class of chemical compounds',\n",
    "    'disease': 'Q12136',\n",
    "}"
   ]
  },
  {
   "cell_type": "code",
   "execution_count": 32,
   "metadata": {},
   "outputs": [],
   "source": [
    "def label_tree(node):\n",
    "    if node['id'] in categories:\n",
    "        category = categories[node['id']]\n",
    "        keyword_category_list.append({'keyword': node['name'], 'category': category})\n",
    "        for child in node['children']:\n",
    "            label_subtree(child, category)\n",
    "    for child in node['children']:\n",
    "        label_tree(child)\n",
    "    \n",
    "\n",
    "def label_subtree(node, category):\n",
    "    keyword_category_list.append({'keyword': node['name'], 'category': category})\n",
    "    for child in node['children']:\n",
    "        label_subtree(child, category)"
   ]
  },
  {
   "cell_type": "code",
   "execution_count": 33,
   "metadata": {},
   "outputs": [],
   "source": [
    "keyword_category_list = []\n",
    "\n",
    "label_tree(root_to_filter)"
   ]
  },
  {
   "cell_type": "code",
   "execution_count": 34,
   "metadata": {},
   "outputs": [],
   "source": [
    "keyword_category_df = pd.DataFrame(keyword_category_list, columns = ['keyword', 'category'])\n",
    "keyword_category_df = keyword_category_df.drop_duplicates()"
   ]
  },
  {
   "cell_type": "code",
   "execution_count": 35,
   "metadata": {},
   "outputs": [],
   "source": [
    "other_keywords = df_keywords[~ df_keywords.index.isin(keyword_category_df.keyword)].index.to_list()\n",
    "others_df = pd.DataFrame({'keyword': other_keywords, 'category': ['Others'] * len(other_keywords)})"
   ]
  },
  {
   "cell_type": "code",
   "execution_count": 36,
   "metadata": {},
   "outputs": [],
   "source": [
    "keyword_category_result_df = keyword_category_df.append(others_df, ignore_index = True)"
   ]
  },
  {
   "cell_type": "code",
   "execution_count": 37,
   "metadata": {},
   "outputs": [
    {
     "data": {
      "text/html": [
       "<div>\n",
       "<style scoped>\n",
       "    .dataframe tbody tr th:only-of-type {\n",
       "        vertical-align: middle;\n",
       "    }\n",
       "\n",
       "    .dataframe tbody tr th {\n",
       "        vertical-align: top;\n",
       "    }\n",
       "\n",
       "    .dataframe thead th {\n",
       "        text-align: right;\n",
       "    }\n",
       "</style>\n",
       "<table border=\"1\" class=\"dataframe\">\n",
       "  <thead>\n",
       "    <tr style=\"text-align: right;\">\n",
       "      <th></th>\n",
       "      <th>keyword</th>\n",
       "    </tr>\n",
       "    <tr>\n",
       "      <th>category</th>\n",
       "      <th></th>\n",
       "    </tr>\n",
       "  </thead>\n",
       "  <tbody>\n",
       "    <tr>\n",
       "      <th>Others</th>\n",
       "      <td>37474</td>\n",
       "    </tr>\n",
       "    <tr>\n",
       "      <th>analytical method</th>\n",
       "      <td>27</td>\n",
       "    </tr>\n",
       "    <tr>\n",
       "      <th>biomolecule</th>\n",
       "      <td>119</td>\n",
       "    </tr>\n",
       "    <tr>\n",
       "      <th>chemical substance</th>\n",
       "      <td>2523</td>\n",
       "    </tr>\n",
       "    <tr>\n",
       "      <th>metal</th>\n",
       "      <td>36</td>\n",
       "    </tr>\n",
       "    <tr>\n",
       "      <th>process</th>\n",
       "      <td>809</td>\n",
       "    </tr>\n",
       "    <tr>\n",
       "      <th>property</th>\n",
       "      <td>407</td>\n",
       "    </tr>\n",
       "    <tr>\n",
       "      <th>structural class of chemical compounds</th>\n",
       "      <td>1026</td>\n",
       "    </tr>\n",
       "  </tbody>\n",
       "</table>\n",
       "</div>"
      ],
      "text/plain": [
       "                                        keyword\n",
       "category                                       \n",
       "Others                                    37474\n",
       "analytical method                            27\n",
       "biomolecule                                 119\n",
       "chemical substance                         2523\n",
       "metal                                        36\n",
       "process                                     809\n",
       "property                                    407\n",
       "structural class of chemical compounds     1026"
      ]
     },
     "execution_count": 37,
     "metadata": {},
     "output_type": "execute_result"
    }
   ],
   "source": [
    "keyword_category_result_df.groupby('category').count()"
   ]
  },
  {
   "cell_type": "code",
   "execution_count": 38,
   "metadata": {},
   "outputs": [],
   "source": [
    "# save keyword-class table to csv\n",
    "\n",
    "keyword_category_result_path = os.path.join(data_path, 'keyword_categories.csv')\n",
    "keyword_category_result_df.to_csv(keyword_category_result_path, index = False)"
   ]
  }
 ],
 "metadata": {
  "kernelspec": {
   "display_name": "Python 3",
   "language": "python",
   "name": "python3"
  },
  "language_info": {
   "codemirror_mode": {
    "name": "ipython",
    "version": 3
   },
   "file_extension": ".py",
   "mimetype": "text/x-python",
   "name": "python",
   "nbconvert_exporter": "python",
   "pygments_lexer": "ipython3",
   "version": "3.8.5"
  }
 },
 "nbformat": 4,
 "nbformat_minor": 4
}
