{
 "cells": [
  {
   "cell_type": "code",
   "execution_count": 1,
   "metadata": {},
   "outputs": [],
   "source": [
    "import os\n",
    "import sys\n",
    "\n",
    "base_path = '/home/jovyan'\n",
    "private_data_path = os.path.join(base_path, 'data/_private/chaoran')\n",
    "number_entries = 7836565\n",
    "\n",
    "# Add path to /src to sys.path\n",
    "script_base_path = os.path.join(base_path, 'src')\n",
    "if script_base_path not in sys.path:\n",
    "  sys.path.append(script_base_path)\n",
    "\n",
    "# Import own modules\n",
    "from data import data_models\n",
    "\n",
    "# Reload own modules (since they will be changing quite often)\n",
    "import importlib\n",
    "importlib.reload(data_models)\n",
    "\n",
    "None"
   ]
  },
  {
   "cell_type": "code",
   "execution_count": 97,
   "metadata": {},
   "outputs": [],
   "source": [
    "import pickle\n",
    "\n",
    "with open(os.path.join(private_data_path, 'playground.pickle'), 'wb') as f:\n",
    "    data = {\n",
    "        'topic_counter': topic_counter,\n",
    "        'subject_counter': subject_counter,\n",
    "        'stats': {\n",
    "            'has_t': has_t,\n",
    "            'has_s': has_s,\n",
    "            'has_full_text': has_full_text\n",
    "        },\n",
    "        'edge_dict': edge_dict,\n",
    "        'G': G,\n",
    "        'G2': G2\n",
    "    }\n",
    "    pickle.dump(data, f)"
   ]
  },
  {
   "cell_type": "code",
   "execution_count": 2,
   "metadata": {},
   "outputs": [
    {
     "data": {
      "application/vnd.jupyter.widget-view+json": {
       "model_id": "9f81f57c76524a218f75db972fc90542",
       "version_major": 2,
       "version_minor": 0
      },
      "text/plain": [
       "HBox(children=(FloatProgress(value=0.0, max=7836565.0), HTML(value='')))"
      ]
     },
     "metadata": {},
     "output_type": "display_data"
    },
    {
     "name": "stdout",
     "output_type": "stream",
     "text": [
      "\n",
      "7836564 6738168 7759934 1661261\n"
     ]
    }
   ],
   "source": [
    "from collections import Counter\n",
    "import re\n",
    "from tqdm.notebook import tqdm\n",
    "\n",
    "topic_counter = Counter()\n",
    "subject_counter = Counter()\n",
    "\n",
    "has_t = 0\n",
    "has_s = 0\n",
    "has_full_text = 0\n",
    "reg = re.compile('[a-zA-Z0-9 ]*')\n",
    "\n",
    "entries = data_models.basic_read_from_xz(os.path.join(base_path, 'data/11-basic/basics.json.xz'))\n",
    "\n",
    "for i, entry in tqdm(enumerate(entries), total=number_entries): \n",
    "    ts = entry.topics\n",
    "    ss = entry.subjects\n",
    "    if ts is not None and len(ts) > 0:\n",
    "        topic_counter.update([t.lower() for t in ts if reg.fullmatch(t) is not None])\n",
    "        has_t += 1\n",
    "    if ss is not None and len(ss) > 0:\n",
    "        subject_counter.update([s.lower() for s in ss if reg.fullmatch(s) is not None])\n",
    "        has_s += 1\n",
    "    if entry.has_full_text:\n",
    "        has_full_text += 1\n",
    "print(i, has_t, has_s, has_full_text)"
   ]
  },
  {
   "cell_type": "code",
   "execution_count": 108,
   "metadata": {},
   "outputs": [
    {
     "name": "stdout",
     "output_type": "stream",
     "text": [
      "1207489\n",
      "-----\n",
      "polymer,6164\n",
      "raman spectroscopy,6141\n",
      "metals,6110\n",
      "liver,6068\n",
      "research,6025\n",
      "biodegradation,6006\n",
      "stress,5994\n",
      "carbon dioxide,5991\n",
      "nitric oxide,5950\n",
      "fish,5947\n",
      "crystallization,5908\n",
      "graphene,5892\n",
      "nanotechnology,5890\n",
      "identification,5872\n",
      "monitoring,5858\n",
      "sintering,5855\n",
      "brazil,5849\n",
      "composites,5833\n",
      "materials science,5831\n",
      "gold,5777\n",
      "climate change,5739\n",
      "silicon,5737\n",
      "biological sciences,5724\n",
      "model,5709\n",
      "c1,5709\n",
      "amino acids,5678\n",
      "silica,5644\n",
      "biomarkers,5643\n",
      "enzymes,5639\n",
      "remote sensing,5607\n",
      "nickel,5601\n",
      "mechanical engineering and machinery,5588\n",
      "cyclic voltammetry,5583\n",
      "aging,5567\n",
      "escherichia coli,5567\n",
      "recycling,5566\n",
      "density functional theory,5561\n",
      "cadmium,5520\n",
      "diabetes,5485\n",
      "wireless sensor networks,5477\n",
      "photoluminescence,5467\n",
      "management,5439\n",
      "cellulose,5422\n",
      "nanomaterials,5413\n",
      "ionic liquids,5412\n",
      "energy,5386\n",
      "lipids,5384\n",
      "purification,5338\n",
      "mitochondria,5330\n",
      "milk,5299\n",
      "\n"
     ]
    }
   ],
   "source": [
    "print(len(topic_counter))\n",
    "print('-----')\n",
    "\n",
    "import csv\n",
    "import io\n",
    "output = io.StringIO()\n",
    "writer = csv.writer(output)\n",
    "pos = 200\n",
    "for x in topic_counter.most_common()[pos:pos+50]:\n",
    "    writer.writerow(x)\n",
    "print(output.getvalue())\n",
    "# Selected: 0, 200, 750, 3000, 10000, 25000 (+50)"
   ]
  },
  {
   "cell_type": "markdown",
   "metadata": {},
   "source": [
    "## Network"
   ]
  },
  {
   "cell_type": "markdown",
   "metadata": {},
   "source": [
    "### Preparation"
   ]
  },
  {
   "cell_type": "code",
   "execution_count": 61,
   "metadata": {},
   "outputs": [],
   "source": [
    "nodes = [x[0] for x in topic_counter.most_common()[20:10000] if x[0] != '']\n",
    "node_set = set(nodes)"
   ]
  },
  {
   "cell_type": "code",
   "execution_count": 27,
   "metadata": {},
   "outputs": [
    {
     "data": {
      "application/vnd.jupyter.widget-view+json": {
       "model_id": "b1ea3d1cc1e6409cb17e8de1c4389ad6",
       "version_major": 2,
       "version_minor": 0
      },
      "text/plain": [
       "HBox(children=(FloatProgress(value=0.0, max=7836565.0), HTML(value='')))"
      ]
     },
     "metadata": {},
     "output_type": "display_data"
    },
    {
     "name": "stdout",
     "output_type": "stream",
     "text": [
      "\n"
     ]
    }
   ],
   "source": [
    "edge_dict = {}  # (node1:str, node2:str) -> weight where node1<node2; This contains ALL topics - without any filtering!\n",
    "\n",
    "entries = data_models.basic_read_from_xz(os.path.join(base_path, 'data/11-basic/basics.json.xz'))\n",
    "for entry in tqdm(entries, total=number_entries):\n",
    "    if entry.topics is None:\n",
    "        continue\n",
    "    for i in range(0, len(entry.topics) - 1):\n",
    "        for j in range(i, len(entry.topics)):\n",
    "            t1 = entry.topics[i]\n",
    "            t2 = entry.topics[j]\n",
    "            if t2 < t1:\n",
    "                tmp = t1\n",
    "                t1 = t2\n",
    "                t2 = tmp\n",
    "            if (t1, t2) not in edge_dict:\n",
    "                edge_dict[(t1, t2)] = 0\n",
    "            edge_dict[(t1, t2)] += 1"
   ]
  },
  {
   "cell_type": "code",
   "execution_count": 30,
   "metadata": {},
   "outputs": [
    {
     "name": "stdout",
     "output_type": "stream",
     "text": [
      "Number of edges: 49259126\n"
     ]
    },
    {
     "data": {
      "text/plain": [
       "count    4.925913e+07\n",
       "mean     7.314620e+00\n",
       "std      1.022218e+03\n",
       "min      1.000000e+00\n",
       "25%      1.000000e+00\n",
       "50%      1.000000e+00\n",
       "75%      2.000000e+00\n",
       "max      1.772047e+06\n",
       "Name: weight, dtype: float64"
      ]
     },
     "execution_count": 30,
     "metadata": {},
     "output_type": "execute_result"
    }
   ],
   "source": [
    "import pandas as pd\n",
    "\n",
    "print('Number of edges: {:d}'.format(len(edge_dict)))\n",
    "\n",
    "df = pd.DataFrame(list(edge_dict.items()), columns = ['edge_name', 'weight']) \n",
    "df.weight.describe()"
   ]
  },
  {
   "cell_type": "markdown",
   "metadata": {},
   "source": [
    "### The Actual And Filtered Network"
   ]
  },
  {
   "cell_type": "code",
   "execution_count": 98,
   "metadata": {},
   "outputs": [],
   "source": [
    "import networkx as nx\n",
    "\n",
    "G = nx.Graph()\n",
    "for ((n1, n2), w) in edge_dict.items():\n",
    "    if w < 3:\n",
    "        continue\n",
    "    if n1 == n2:\n",
    "        continue\n",
    "    if n1 not in node_set or n2 not in node_set:\n",
    "        continue\n",
    "    G.add_edge(n1, n2, weight=w)"
   ]
  },
  {
   "cell_type": "code",
   "execution_count": 101,
   "metadata": {},
   "outputs": [],
   "source": [
    "# Write edge list\n",
    "with open(os.path.join(private_data_path, 'edge_list2.csv'), 'wt') as f:\n",
    "    f.write('Source,Target,Type,Weight\\n')\n",
    "    for n1, n2, data in G2.edges(data=True):\n",
    "        w = data['weight']\n",
    "        line = '{},{},undefined_relation,{}'.format(n1, n2, w)\n",
    "        f.write(line + '\\n')\n"
   ]
  },
  {
   "cell_type": "code",
   "execution_count": 78,
   "metadata": {},
   "outputs": [
    {
     "data": {
      "text/plain": [
       "(array([7854,  470,  130,   35,   23,    9,    9,    6,    1,    1,    0,\n",
       "           0]),\n",
       " array([   0,  100,  200,  300,  400,  500,  600,  700,  800,  900, 1000,\n",
       "        1100, 1200]))"
      ]
     },
     "execution_count": 78,
     "metadata": {},
     "output_type": "execute_result"
    }
   ],
   "source": [
    "import numpy as np\n",
    "\n",
    "x = np.array([len(G[n]) for n in G.nodes()])\n",
    "np.histogram(x, bins=np.arange(0, 1300, 100))"
   ]
  },
  {
   "cell_type": "code",
   "execution_count": 100,
   "metadata": {},
   "outputs": [],
   "source": [
    "# Let's only keep the top k edges per node\n",
    "k = 20\n",
    "G2 = nx.Graph()\n",
    "for n1 in G.nodes():\n",
    "    neighbors = list(G[n1].items())\n",
    "    top_neighbors = sorted(neighbors, key=lambda neigh: neigh[1]['weight'], reverse=True)[:k]\n",
    "    for neigh in top_neighbors:\n",
    "        n2 = neigh[0]\n",
    "        w = neigh[1]['weight']\n",
    "        if n2 < n1:\n",
    "            continue\n",
    "        G2.add_edge(n1, n2, weight=w)"
   ]
  },
  {
   "cell_type": "code",
   "execution_count": 91,
   "metadata": {},
   "outputs": [
    {
     "name": "stdout",
     "output_type": "stream",
     "text": [
      "62195\n"
     ]
    },
    {
     "data": {
      "text/plain": [
       "(array([8398,   42,    6,    2,    0,    0,    0,    0,    0,    0,    0,\n",
       "           0]),\n",
       " array([   0,  100,  200,  300,  400,  500,  600,  700,  800,  900, 1000,\n",
       "        1100, 1200]))"
      ]
     },
     "execution_count": 91,
     "metadata": {},
     "output_type": "execute_result"
    }
   ],
   "source": [
    "print(len(G2.edges()))\n",
    "x = np.array([len(G2[n]) for n in G2.nodes()])\n",
    "np.histogram(x, bins=np.arange(0, 1300, 100))"
   ]
  }
 ],
 "metadata": {
  "kernelspec": {
   "display_name": "Python 3",
   "language": "python",
   "name": "python3"
  },
  "language_info": {
   "codemirror_mode": {
    "name": "ipython",
    "version": 3
   },
   "file_extension": ".py",
   "mimetype": "text/x-python",
   "name": "python",
   "nbconvert_exporter": "python",
   "pygments_lexer": "ipython3",
   "version": "3.8.5"
  }
 },
 "nbformat": 4,
 "nbformat_minor": 4
}
