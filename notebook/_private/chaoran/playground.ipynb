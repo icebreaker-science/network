{
 "cells": [
  {
   "cell_type": "code",
   "execution_count": 1,
   "metadata": {},
   "outputs": [],
   "source": [
    "import os\n",
    "import sys\n",
    "\n",
    "base_path = '/home/jovyan'\n",
    "private_data_path = os.path.join(base_path, 'data/_private/chaoran')\n",
    "number_entries = 7836565\n",
    "\n",
    "# Add path to /src to sys.path\n",
    "script_base_path = os.path.join(base_path, 'src')\n",
    "if script_base_path not in sys.path:\n",
    "  sys.path.append(script_base_path)\n",
    "\n",
    "# Import own modules\n",
    "from data import data_models\n",
    "\n",
    "# Reload own modules (since they will be changing quite often)\n",
    "import importlib\n",
    "importlib.reload(data_models)\n",
    "\n",
    "None"
   ]
  },
  {
   "cell_type": "code",
   "execution_count": 143,
   "metadata": {},
   "outputs": [],
   "source": [
    "import pickle\n",
    "\n",
    "with open(os.path.join(private_data_path, 'playground.pickle'), 'wb') as f:\n",
    "    data = {\n",
    "        'topic_counter': topic_counter,\n",
    "        'subject_counter': subject_counter,\n",
    "        'stats': {\n",
    "            'has_t': has_t,\n",
    "            'has_s': has_s,\n",
    "            'has_full_text': has_full_text\n",
    "        },\n",
    "        'edge_dict': edge_dict,\n",
    "        'G': G,\n",
    "        'G2': G2\n",
    "    }\n",
    "    pickle.dump(data, f)"
   ]
  },
  {
   "cell_type": "code",
   "execution_count": 2,
   "metadata": {},
   "outputs": [
    {
     "data": {
      "application/vnd.jupyter.widget-view+json": {
       "model_id": "9f81f57c76524a218f75db972fc90542",
       "version_major": 2,
       "version_minor": 0
      },
      "text/plain": [
       "HBox(children=(FloatProgress(value=0.0, max=7836565.0), HTML(value='')))"
      ]
     },
     "metadata": {},
     "output_type": "display_data"
    },
    {
     "name": "stdout",
     "output_type": "stream",
     "text": [
      "\n",
      "7836564 6738168 7759934 1661261\n"
     ]
    }
   ],
   "source": [
    "from collections import Counter\n",
    "import re\n",
    "from tqdm.notebook import tqdm\n",
    "\n",
    "topic_counter = Counter()\n",
    "subject_counter = Counter()\n",
    "\n",
    "has_t = 0\n",
    "has_s = 0\n",
    "has_full_text = 0\n",
    "reg = re.compile('[a-zA-Z0-9 ]*')\n",
    "\n",
    "entries = data_models.basic_read_from_xz(os.path.join(base_path, 'data/11-basic/basics.json.xz'))\n",
    "\n",
    "for i, entry in tqdm(enumerate(entries), total=number_entries): \n",
    "    ts = entry.topics\n",
    "    ss = entry.subjects\n",
    "    if ts is not None and len(ts) > 0:\n",
    "        topic_counter.update([t.lower() for t in ts if reg.fullmatch(t) is not None])\n",
    "        has_t += 1\n",
    "    if ss is not None and len(ss) > 0:\n",
    "        subject_counter.update([s.lower() for s in ss if reg.fullmatch(s) is not None])\n",
    "        has_s += 1\n",
    "    if entry.has_full_text:\n",
    "        has_full_text += 1\n",
    "print(i, has_t, has_s, has_full_text)"
   ]
  },
  {
   "cell_type": "code",
   "execution_count": 144,
   "metadata": {},
   "outputs": [
    {
     "name": "stdout",
     "output_type": "stream",
     "text": [
      "1207489\n",
      "-----\n",
      "polymer,6164\n",
      "raman spectroscopy,6141\n",
      "metals,6110\n",
      "liver,6068\n",
      "research,6025\n",
      "biodegradation,6006\n",
      "stress,5994\n",
      "carbon dioxide,5991\n",
      "nitric oxide,5950\n",
      "fish,5947\n",
      "\n"
     ]
    }
   ],
   "source": [
    "print(len(topic_counter))\n",
    "print('-----')\n",
    "\n",
    "import csv\n",
    "import io\n",
    "output = io.StringIO()\n",
    "writer = csv.writer(output)\n",
    "pos = 200\n",
    "for x in topic_counter.most_common()[pos:pos+10]:\n",
    "    writer.writerow(x)\n",
    "print(output.getvalue())\n",
    "# Selected: 0, 200, 750, 3000, 10000, 25000 (+50)"
   ]
  },
  {
   "cell_type": "markdown",
   "metadata": {},
   "source": [
    "## Network"
   ]
  },
  {
   "cell_type": "markdown",
   "metadata": {},
   "source": [
    "### Preparation"
   ]
  },
  {
   "cell_type": "code",
   "execution_count": 149,
   "metadata": {},
   "outputs": [
    {
     "data": {
      "application/vnd.jupyter.widget-view+json": {
       "model_id": "6a827b5a6992400887fdc2fba6abbfa7",
       "version_major": 2,
       "version_minor": 0
      },
      "text/plain": [
       "HBox(children=(FloatProgress(value=0.0, max=7836565.0), HTML(value='')))"
      ]
     },
     "metadata": {},
     "output_type": "display_data"
    },
    {
     "name": "stdout",
     "output_type": "stream",
     "text": [
      "\n"
     ]
    }
   ],
   "source": [
    "def count_edges():\n",
    "    edge_dict = {}  # (node1:str, node2:str) -> weight where node1<node2; This contains ALL topics - without any filtering!\n",
    "    entries = data_models.basic_read_from_xz(os.path.join(base_path, 'data/11-basic/basics.json.xz'))\n",
    "    for entry in tqdm(entries, total=number_entries):\n",
    "        if entry.topics is None:\n",
    "            continue\n",
    "        for i in range(0, len(entry.topics) - 1):\n",
    "            for j in range(i, len(entry.topics)):\n",
    "                t1 = entry.topics[i]\n",
    "                t2 = entry.topics[j]\n",
    "                if t2 < t1:\n",
    "                    tmp = t1\n",
    "                    t1 = t2\n",
    "                    t2 = tmp\n",
    "                if (t1, t2) not in edge_dict:\n",
    "                    edge_dict[(t1, t2)] = 0\n",
    "                edge_dict[(t1, t2)] += 1\n",
    "    return edge_dict\n",
    "\n",
    "edge_dict = count_edges()"
   ]
  },
  {
   "cell_type": "code",
   "execution_count": 30,
   "metadata": {},
   "outputs": [
    {
     "name": "stdout",
     "output_type": "stream",
     "text": [
      "Number of edges: 49259126\n"
     ]
    },
    {
     "data": {
      "text/plain": [
       "count    4.925913e+07\n",
       "mean     7.314620e+00\n",
       "std      1.022218e+03\n",
       "min      1.000000e+00\n",
       "25%      1.000000e+00\n",
       "50%      1.000000e+00\n",
       "75%      2.000000e+00\n",
       "max      1.772047e+06\n",
       "Name: weight, dtype: float64"
      ]
     },
     "execution_count": 30,
     "metadata": {},
     "output_type": "execute_result"
    }
   ],
   "source": [
    "import pandas as pd\n",
    "\n",
    "print('Number of edges: {:d}'.format(len(edge_dict)))\n",
    "\n",
    "df = pd.DataFrame(list(edge_dict.items()), columns = ['edge_name', 'weight']) \n",
    "df.weight.describe()"
   ]
  },
  {
   "cell_type": "markdown",
   "metadata": {},
   "source": [
    "### The Actual And Filtered Network"
   ]
  },
  {
   "cell_type": "code",
   "execution_count": 169,
   "metadata": {},
   "outputs": [],
   "source": [
    "import networkx as nx\n",
    "\n",
    "def create_network(node_dict, edge_dict, node_set):\n",
    "    \"\"\"\n",
    "    :param node_dict: dict<node id, weight>\n",
    "    :param edge_dict: dict<(node1 id, node2 id), weight>\n",
    "    :param node_set: a set of nodes that should be included in the network; other nodes will be ignored.\n",
    "    \"\"\"\n",
    "    G = nx.Graph()\n",
    "    for ((n1, n2), w) in edge_dict.items():\n",
    "        if w < 5:\n",
    "            continue\n",
    "        if n1 == n2:\n",
    "            continue\n",
    "        if n1 not in node_set or n2 not in node_set:\n",
    "            continue\n",
    "        G.add_edge(n1, n2, weight=w)\n",
    "    nx.set_node_attributes(G, topic_counter, name='weight')\n",
    "    \n",
    "    # Compute a normalized edge weight\n",
    "    normalized_weights = {}\n",
    "    for e in G.edges(data=True):\n",
    "        n1, n2, data = e\n",
    "        w = data['weight']\n",
    "        normalized_weight = (w / G.degree(n1, weight='weight')) * (w / G.degree(n2, weight='weight'))\n",
    "        normalized_weights[(n1, n2)] = normalized_weight\n",
    "    nx.set_edge_attributes(G, normalized_weights, name='normalized_weight')\n",
    "    \n",
    "    return G\n",
    "\n",
    "def reduce_network(G, k):\n",
    "    \"\"\"\n",
    "    Let's only keep the top k edges per node\n",
    "    \"\"\"\n",
    "    G2 = nx.Graph()\n",
    "    for n1 in G.nodes():\n",
    "        G2.add_node(n1, weight=G.nodes[n1]['weight'])\n",
    "        neighbors = list(G[n1].items())\n",
    "        top_neighbors = sorted(neighbors, key=lambda neigh: neigh[1]['weight'], reverse=True)[:k]\n",
    "        for neigh in top_neighbors:\n",
    "            n2 = neigh[0]\n",
    "            w = neigh[1]['weight']\n",
    "            normalized_w = neigh[1]['normalized_weight']\n",
    "            if n2 < n1:\n",
    "                continue\n",
    "            G2.add_edge(n1, n2, weight=w, normalized_weight=normalized_w)\n",
    "    return G2\n",
    "\n",
    "nodes = [x[0] for x in topic_counter.most_common()[20:50000] if x[0] != '']\n",
    "node_set = set(nodes)\n",
    "G = create_network(topic_counter, edge_dict, node_set)\n",
    "G2 = reduce_network(G, 20)"
   ]
  },
  {
   "cell_type": "code",
   "execution_count": 175,
   "metadata": {},
   "outputs": [],
   "source": [
    "def export_graph(G, path):\n",
    "    \"\"\"\n",
    "    Writes the files node_list.csv and edge_list.csv.\n",
    "    \"\"\"\n",
    "    # Write node list\n",
    "    with open(os.path.join(path, 'node_list.csv'), 'wt') as f:\n",
    "        f.write('Name,Weight\\n')\n",
    "        for n, data in G.nodes(data=True):\n",
    "            w = data['weight']\n",
    "            line = '{},{}'.format(n, w)\n",
    "            f.write(line + '\\n')\n",
    "        \n",
    "    # Write edge list\n",
    "    with open(os.path.join(path, 'edge_list.csv'), 'wt') as f:\n",
    "        f.write('Source,Target,Type,Weight,NormalizedWeight\\n')\n",
    "        for n1, n2, data in G.edges(data=True):\n",
    "            line = '{},{},undefined_relation,{},{:.16f}'.format(n1, n2, data['weight'], data['normalized_weight'])\n",
    "            f.write(line + '\\n')\n",
    "\n",
    "export_graph(G, os.path.join(private_data_path, 'size_50000/G'))\n",
    "export_graph(G2, os.path.join(private_data_path, 'size_50000/G2'))"
   ]
  },
  {
   "cell_type": "code",
   "execution_count": 176,
   "metadata": {},
   "outputs": [],
   "source": [
    "def _node_name_to_neo4j_id(name):\n",
    "    return name.replace(' ', '_')\n",
    "\n",
    "def export_to_neo4j(G, path):\n",
    "    \"\"\"\n",
    "    Writes csv files that can be imported into neo4j. This file can be imported with LOAD\n",
    "    \"\"\"\n",
    "    # Write node list\n",
    "    with open(os.path.join(path, 'nodes.csv'), 'wt') as f:\n",
    "        f.write('id,name,weight\\n')\n",
    "        for n, data in G.nodes(data=True):\n",
    "            w = data['weight']\n",
    "            line = '{},{},{}'.format(_node_name_to_neo4j_id(n), n, w)\n",
    "            f.write(line + '\\n')\n",
    "            \n",
    "    # Write edge list\n",
    "    with open(os.path.join(path, 'edges.csv'), 'wt') as f:\n",
    "        f.write('node1,node2,type,weight,normalizedWeight\\n')\n",
    "        for n1, n2, data in G.edges(data=True):\n",
    "            line = '{},{},RELATED_TO,{},{:.16f}'.format(_node_name_to_neo4j_id(n1), _node_name_to_neo4j_id(n2),\n",
    "                                                         data['weight'], data['normalized_weight'])\n",
    "            f.write(line + '\\n')\n",
    "            \n",
    "def export_to_neo4j1(G, path):\n",
    "    \"\"\"\n",
    "    Writes csv files that can be imported into neo4j. This file can be imported with the import tool\n",
    "    \"\"\"\n",
    "    # Write node list\n",
    "    with open(os.path.join(path, 'nodes_header.csv'), 'wt') as f:\n",
    "        f.write(':ID,name,weight:int,:LABEL\\n')\n",
    "    with open(os.path.join(path, 'nodes_data.csv'), 'wt') as f:\n",
    "        for n, data in G.nodes(data=True):\n",
    "            w = data['weight']\n",
    "            line = '{},{},{},Topic'.format(_node_name_to_neo4j_id(n), n, w)\n",
    "            f.write(line + '\\n')\n",
    "            \n",
    "    # Write edge list\n",
    "    with open(os.path.join(path, 'edges_header.csv'), 'wt') as f:\n",
    "        f.write(':START_ID,:END_ID,:TYPE,weight:int,normalizedWeight:float\\n')\n",
    "    with open(os.path.join(path, 'edges_data.csv'), 'wt') as f:\n",
    "        for n1, n2, data in G.edges(data=True):\n",
    "            line = '{},{},RELATED_TO,{},{:.16f}'.format(_node_name_to_neo4j_id(n1), _node_name_to_neo4j_id(n2),\n",
    "                                                         data['weight'], data['normalized_weight'])\n",
    "            f.write(line + '\\n')\n",
    "            \n",
    "export_to_neo4j1(G, os.path.join(private_data_path, 'size_50000/G_neo4j'))"
   ]
  }
 ],
 "metadata": {
  "kernelspec": {
   "display_name": "Python 3",
   "language": "python",
   "name": "python3"
  },
  "language_info": {
   "codemirror_mode": {
    "name": "ipython",
    "version": 3
   },
   "file_extension": ".py",
   "mimetype": "text/x-python",
   "name": "python",
   "nbconvert_exporter": "python",
   "pygments_lexer": "ipython3",
   "version": "3.8.5"
  }
 },
 "nbformat": 4,
 "nbformat_minor": 4
}
