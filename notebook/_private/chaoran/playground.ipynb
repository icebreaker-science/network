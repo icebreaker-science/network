{
 "cells": [
  {
   "cell_type": "code",
   "execution_count": 21,
   "metadata": {},
   "outputs": [],
   "source": [
    "import os\n",
    "import sys\n",
    "\n",
    "base_path = '/home/jupyter-cchen'\n",
    "private_data_path = os.path.join(base_path, 'data/_private/chaoran')\n",
    "\n",
    "# Define source of entries\n",
    "# number_entries = 7836565\n",
    "number_entries = 3444311\n",
    "# number_entries = 9958\n",
    "def get_entries():\n",
    "    # return data_models.basic_read_from_xz(os.path.join(base_path, 'data/11-basic/basics.json.xz'))\n",
    "    return data_models.read_basics_from_database('localhost', '12210', 'icebreaker_network', 'postgres', 'postgres')\n",
    "\n",
    "# Add path to /src to sys.path\n",
    "script_base_path = os.path.join(base_path, 'src')\n",
    "if script_base_path not in sys.path:\n",
    "  sys.path.append(script_base_path)\n",
    "\n",
    "# Import own modules\n",
    "from data import data_models, network\n",
    "\n",
    "# Reload own modules (since they will be changing quite often)\n",
    "import importlib\n",
    "importlib.reload(data_models)\n",
    "importlib.reload(network)\n",
    "\n",
    "\n",
    "None"
   ]
  },
  {
   "cell_type": "code",
   "execution_count": null,
   "metadata": {},
   "outputs": [],
   "source": [
    "import pickle\n",
    "\n",
    "with open(os.path.join(private_data_path, 'playground.pickle'), 'wb') as f:\n",
    "    data = {\n",
    "        'topic_counter': topic_counter,\n",
    "        'subject_counter': subject_counter,\n",
    "        'edge_dict': edge_dict,\n",
    "        'G': G,\n",
    "        'G2': G2,\n",
    "        'nodes_label_to_numeric_id': nodes_label_to_numeric_id,\n",
    "        'nodes_numeric_id_to_label': nodes_numeric_id_to_label\n",
    "    }\n",
    "    pickle.dump(data, f)"
   ]
  },
  {
   "cell_type": "code",
   "execution_count": null,
   "metadata": {},
   "outputs": [],
   "source": [
    "import pickle\n",
    "\n",
    "with open(os.path.join(private_data_path, 'playground.pickle'), 'rb') as f:\n",
    "    data = pickle.load(f)"
   ]
  },
  {
   "cell_type": "code",
   "execution_count": 9,
   "metadata": {},
   "outputs": [
    {
     "data": {
      "application/vnd.jupyter.widget-view+json": {
       "model_id": "ef4595dd6391492bad3df559d8a87d9b",
       "version_major": 2,
       "version_minor": 0
      },
      "text/plain": [
       "HBox(children=(FloatProgress(value=0.0, max=3444311.0), HTML(value='')))"
      ]
     },
     "metadata": {},
     "output_type": "display_data"
    },
    {
     "name": "stdout",
     "output_type": "stream",
     "text": [
      "\n",
      "total entries=3444310, has topics=2480188, has subjects=3378519, has full text=1389178\n",
      "Number of topics: 1006462, number of subjects: 40880\n"
     ]
    }
   ],
   "source": [
    "topic_counter, subject_counter = data_models.count_topics_and_subjects(get_entries(), number_entries=number_entries)\n",
    "print('Number of topics: {}, number of subjects: {}'.format(len(topic_counter), len(subject_counter)))"
   ]
  },
  {
   "cell_type": "code",
   "execution_count": 10,
   "metadata": {},
   "outputs": [
    {
     "name": "stdout",
     "output_type": "stream",
     "text": [
      "methane,2412\n",
      "ethanol,2405\n",
      "cells,2390\n",
      "crystallography,2387\n",
      "nutrition,2382\n",
      "mitochondria,2371\n",
      "nitric oxide,2370\n",
      "chitosan,2363\n",
      "nanocomposites,2358\n",
      "fermentation,2356\n",
      "\n"
     ]
    }
   ],
   "source": [
    "import csv\n",
    "import io\n",
    "output = io.StringIO()\n",
    "writer = csv.writer(output)\n",
    "pos = 200\n",
    "for x in topic_counter.most_common()[pos:pos+10]:\n",
    "    writer.writerow(x)\n",
    "print(output.getvalue())\n",
    "# Selected: 0, 200, 750, 3000, 10000, 25000 (+50)"
   ]
  },
  {
   "cell_type": "markdown",
   "metadata": {},
   "source": [
    "## Network"
   ]
  },
  {
   "cell_type": "code",
   "execution_count": 18,
   "metadata": {},
   "outputs": [
    {
     "name": "stdout",
     "output_type": "stream",
     "text": [
      "Creating network\n"
     ]
    },
    {
     "data": {
      "application/vnd.jupyter.widget-view+json": {
       "model_id": "5f1c12793daf4afcbcb1048f83ebb834",
       "version_major": 2,
       "version_minor": 0
      },
      "text/plain": [
       "HBox(children=(FloatProgress(value=0.0, description='Filter edges', max=39551424.0, style=ProgressStyle(descri…"
      ]
     },
     "metadata": {},
     "output_type": "display_data"
    },
    {
     "name": "stdout",
     "output_type": "stream",
     "text": [
      "\n"
     ]
    },
    {
     "data": {
      "application/vnd.jupyter.widget-view+json": {
       "model_id": "4d05d9b4401f45368931afb558de9707",
       "version_major": 2,
       "version_minor": 0
      },
      "text/plain": [
       "HBox(children=(FloatProgress(value=0.0, description='Computing normalized edge weights', max=1989964.0, style=…"
      ]
     },
     "metadata": {},
     "output_type": "display_data"
    },
    {
     "name": "stdout",
     "output_type": "stream",
     "text": [
      "\n"
     ]
    },
    {
     "data": {
      "application/vnd.jupyter.widget-view+json": {
       "model_id": "8336cc3a6b284df880500707d4cc4b61",
       "version_major": 2,
       "version_minor": 0
      },
      "text/plain": [
       "HBox(children=(FloatProgress(value=0.0, description='Add edge references', max=3444311.0, style=ProgressStyle(…"
      ]
     },
     "metadata": {},
     "output_type": "display_data"
    },
    {
     "name": "stdout",
     "output_type": "stream",
     "text": [
      "\n"
     ]
    },
    {
     "data": {
      "application/vnd.jupyter.widget-view+json": {
       "model_id": "0d004a7b04bd436da3ff38743d4055f5",
       "version_major": 2,
       "version_minor": 0
      },
      "text/plain": [
       "HBox(children=(FloatProgress(value=0.0, description='Reducing network', max=41563.0, style=ProgressStyle(descr…"
      ]
     },
     "metadata": {},
     "output_type": "display_data"
    },
    {
     "name": "stdout",
     "output_type": "stream",
     "text": [
      "\n"
     ]
    }
   ],
   "source": [
    "print('Counting edges')\n",
    "edge_dict = network.count_edges(get_entries(), number_entries=number_entries)\n",
    "print('Number of edges: {:d}'.format(len(edge_dict)))\n",
    "\n",
    "print('Creating network')\n",
    "nodes = [x[0] for x in topic_counter.most_common()[20:50000] if x[0] != '']\n",
    "node_set = set(nodes)\n",
    "G = network.create_network(topic_counter, edge_dict, node_set)\n",
    "network.add_references_to_edges(get_entries(), G, number_entries=number_entries)\n",
    "G2 = network.reduce_network(G, 20)"
   ]
  },
  {
   "cell_type": "markdown",
   "metadata": {},
   "source": [
    "### Export Network"
   ]
  },
  {
   "cell_type": "code",
   "execution_count": 23,
   "metadata": {},
   "outputs": [],
   "source": [
    "network.export_to_gephi(G, os.path.join(private_data_path, 'size_50000/G'))\n",
    "network.export_to_gephi(G2, os.path.join(private_data_path, 'size_50000/G2'))\n",
    "network.export_to_neo4j(G, os.path.join(private_data_path, 'size_50000/G_neo4j'))"
   ]
  },
  {
   "cell_type": "code",
   "execution_count": 24,
   "metadata": {},
   "outputs": [],
   "source": [
    "import csv\n",
    "def export_top_nodes(G, k, path):\n",
    "    \"\"\"\n",
    "    Writes the k nodes with the highest weights to a csv file.\n",
    "    \"\"\"\n",
    "    ns = sorted(list(G.nodes(data=True)), key=lambda n: n[1]['weight'], reverse=True)\n",
    "    ns = ns[:k]\n",
    "    ns = sorted(ns, key=lambda n: n[0])\n",
    "    with open(path, 'wt') as f:\n",
    "        csv_writer = csv.writer(f)\n",
    "        csv_writer.writerow(['Begriff', 'Anzahl Vorkommnisse'])\n",
    "        for n in ns:\n",
    "            label = n[0]\n",
    "            weight = n[1]['weight']\n",
    "            csv_writer.writerow([label, weight])\n",
    "\n",
    "export_top_nodes(G, 10000, os.path.join(private_data_path, 'begriffe.csv'))"
   ]
  },
  {
   "cell_type": "markdown",
   "metadata": {},
   "source": [
    "### Network Embedding"
   ]
  },
  {
   "cell_type": "code",
   "execution_count": null,
   "metadata": {},
   "outputs": [],
   "source": [
    "from node2vec import Node2Vec\n",
    "\n",
    "# https://github.com/eliorc/node2vec\n",
    "node2vec = Node2Vec(G, dimensions=64, walk_length=30, num_walks=200, workers=4, temp_folder='/tmp/node2vec')\n",
    "model = node2vec.fit(window=10, min_count=1, batch_words=4)\n",
    "with open(os.path.join(private_data_path, 'G_node2vec_model.pickle'), 'wb') as f:\n",
    "    pickle.dump(model, f)\n",
    "model.wv.save_word2vec_format(os.path.join(private_data_path, 'G_node2vec.embd'))\n",
    "model.save(os.path.join(private_data_path, 'G_node2vec.model'))"
   ]
  }
 ],
 "metadata": {
  "kernelspec": {
   "display_name": "Python 3",
   "language": "python",
   "name": "python3"
  },
  "language_info": {
   "codemirror_mode": {
    "name": "ipython",
    "version": 3
   },
   "file_extension": ".py",
   "mimetype": "text/x-python",
   "name": "python",
   "nbconvert_exporter": "python",
   "pygments_lexer": "ipython3",
   "version": "3.7.3"
  }
 },
 "nbformat": 4,
 "nbformat_minor": 4
}
